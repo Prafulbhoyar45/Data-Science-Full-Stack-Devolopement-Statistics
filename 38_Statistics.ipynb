{
 "cells": [
  {
   "cell_type": "markdown",
   "id": "32cf531b",
   "metadata": {},
   "source": [
    "# Statistics"
   ]
  },
  {
   "cell_type": "code",
   "execution_count": null,
   "id": "22001a19",
   "metadata": {},
   "outputs": [],
   "source": [
    "Data Science -> Software Development + Statistics"
   ]
  },
  {
   "cell_type": "code",
   "execution_count": null,
   "id": "5ee3b181",
   "metadata": {},
   "outputs": [],
   "source": [
    "                                Statistics\n",
    "                Descriptive                    Inferential\n",
    "        Univariate                                   Hypothesis Testing\n",
    "        Bivariate                                    Model Fitting\n",
    "        Multivariate"
   ]
  },
  {
   "cell_type": "code",
   "execution_count": null,
   "id": "16606cb3",
   "metadata": {},
   "outputs": [],
   "source": [
    "                                Descriptive\n",
    "    Univariate                Bivariate                 Multivariate"
   ]
  },
  {
   "cell_type": "code",
   "execution_count": null,
   "id": "f211dd9f",
   "metadata": {},
   "outputs": [],
   "source": [
    "Univariate\n",
    "\n",
    "1. Measure of Frequency\n",
    "2. Central Tendency - mean, median, mode\n",
    "                    - Geometric mean } ratio or rates\n",
    "                    - Harmonic Mean\n",
    "3. Despersion\n",
    "    - Range (max - min) - sensitive to outliers\n",
    "    - Inter Quartile Range - (75th percentile - 25th percentile)\n",
    "    - Variance\n",
    "    - Standard Deviation\n",
    "    "
   ]
  },
  {
   "cell_type": "code",
   "execution_count": null,
   "id": "3dce0754",
   "metadata": {},
   "outputs": [],
   "source": [
    "Mean\n",
    "\n",
    "- It best represents the data.\n",
    "- It consider each and every point in the data.\n",
    "- Discrete data and Continuous data\n",
    "\n",
    "- It is extremly sensitive to the presence of outlier."
   ]
  },
  {
   "cell_type": "code",
   "execution_count": null,
   "id": "5409e8ac",
   "metadata": {},
   "outputs": [],
   "source": [
    "                                    Data\n",
    "                Qualitative                     Quantitative\n",
    "        \"I am from indore\"                        - Discrete (6 boys) category\n",
    "                                                  (ratings)\n",
    "            \n",
    "                                                  - Continuous  6.5"
   ]
  },
  {
   "cell_type": "code",
   "execution_count": null,
   "id": "d57d4345",
   "metadata": {},
   "outputs": [],
   "source": [
    "Median\n",
    "\n",
    "- It is less sensitive by the outlier.\n",
    "- 50% of the data is either side of it.\n",
    "- Median does not consider each point like mean."
   ]
  },
  {
   "cell_type": "code",
   "execution_count": null,
   "id": "201fc493",
   "metadata": {},
   "outputs": [],
   "source": [
    "Mode\n",
    "\n",
    "- the value that occured most in the data.\n",
    "- casting vote in an election\n",
    "- mode is not good for continuous data.\n"
   ]
  },
  {
   "cell_type": "code",
   "execution_count": null,
   "id": "f2e020bb",
   "metadata": {},
   "outputs": [],
   "source": []
  },
  {
   "cell_type": "code",
   "execution_count": null,
   "id": "4e3ed2a8",
   "metadata": {},
   "outputs": [],
   "source": []
  }
 ],
 "metadata": {
  "kernelspec": {
   "display_name": "Python 3",
   "language": "python",
   "name": "python3"
  },
  "language_info": {
   "codemirror_mode": {
    "name": "ipython",
    "version": 3
   },
   "file_extension": ".py",
   "mimetype": "text/x-python",
   "name": "python",
   "nbconvert_exporter": "python",
   "pygments_lexer": "ipython3",
   "version": "3.8.10"
  }
 },
 "nbformat": 4,
 "nbformat_minor": 5
}
