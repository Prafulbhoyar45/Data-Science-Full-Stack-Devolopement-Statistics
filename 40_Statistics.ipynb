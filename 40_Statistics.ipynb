{
 "cells": [
  {
   "cell_type": "markdown",
   "id": "d1381623",
   "metadata": {},
   "source": [
    "# Central Tendancy"
   ]
  },
  {
   "cell_type": "code",
   "execution_count": 1,
   "id": "1333488a",
   "metadata": {},
   "outputs": [],
   "source": [
    "import statistics\n",
    "\n",
    "import numpy as np\n",
    "import pandas as pd\n",
    "\n",
    "import seaborn as sns\n",
    "import matplotlib.pyplot as plt\n",
    "\n",
    "sns.set_theme(style='darkgrid')"
   ]
  },
  {
   "cell_type": "code",
   "execution_count": 2,
   "id": "a4cc90f0",
   "metadata": {},
   "outputs": [
    {
     "data": {
      "text/html": [
       "<div>\n",
       "<style scoped>\n",
       "    .dataframe tbody tr th:only-of-type {\n",
       "        vertical-align: middle;\n",
       "    }\n",
       "\n",
       "    .dataframe tbody tr th {\n",
       "        vertical-align: top;\n",
       "    }\n",
       "\n",
       "    .dataframe thead th {\n",
       "        text-align: right;\n",
       "    }\n",
       "</style>\n",
       "<table border=\"1\" class=\"dataframe\">\n",
       "  <thead>\n",
       "    <tr style=\"text-align: right;\">\n",
       "      <th></th>\n",
       "      <th>Rank</th>\n",
       "      <th>Company</th>\n",
       "      <th>Country</th>\n",
       "      <th>Sales</th>\n",
       "      <th>Profits</th>\n",
       "      <th>Assets</th>\n",
       "      <th>Market Value</th>\n",
       "      <th>Sector</th>\n",
       "      <th>Industry</th>\n",
       "    </tr>\n",
       "  </thead>\n",
       "  <tbody>\n",
       "    <tr>\n",
       "      <th>0</th>\n",
       "      <td>1</td>\n",
       "      <td>ICBC</td>\n",
       "      <td>China</td>\n",
       "      <td>151.4</td>\n",
       "      <td>42.0</td>\n",
       "      <td>3473.2</td>\n",
       "      <td>229.8</td>\n",
       "      <td>Financials</td>\n",
       "      <td>Major Banks</td>\n",
       "    </tr>\n",
       "    <tr>\n",
       "      <th>1</th>\n",
       "      <td>2</td>\n",
       "      <td>China Construction Bank</td>\n",
       "      <td>China</td>\n",
       "      <td>134.2</td>\n",
       "      <td>35.0</td>\n",
       "      <td>3016.6</td>\n",
       "      <td>200.5</td>\n",
       "      <td>Financials</td>\n",
       "      <td>Regional Banks</td>\n",
       "    </tr>\n",
       "    <tr>\n",
       "      <th>2</th>\n",
       "      <td>3</td>\n",
       "      <td>Berkshire Hathaway</td>\n",
       "      <td>United States</td>\n",
       "      <td>222.9</td>\n",
       "      <td>24.1</td>\n",
       "      <td>620.9</td>\n",
       "      <td>409.9</td>\n",
       "      <td>Financials</td>\n",
       "      <td>Investment Services</td>\n",
       "    </tr>\n",
       "    <tr>\n",
       "      <th>3</th>\n",
       "      <td>4</td>\n",
       "      <td>JPMorgan Chase</td>\n",
       "      <td>United States</td>\n",
       "      <td>102.5</td>\n",
       "      <td>24.2</td>\n",
       "      <td>2513.0</td>\n",
       "      <td>306.6</td>\n",
       "      <td>Financials</td>\n",
       "      <td>Major Banks</td>\n",
       "    </tr>\n",
       "    <tr>\n",
       "      <th>4</th>\n",
       "      <td>5</td>\n",
       "      <td>Wells Fargo</td>\n",
       "      <td>United States</td>\n",
       "      <td>97.6</td>\n",
       "      <td>21.9</td>\n",
       "      <td>1943.4</td>\n",
       "      <td>274.4</td>\n",
       "      <td>Financials</td>\n",
       "      <td>Major Banks</td>\n",
       "    </tr>\n",
       "  </tbody>\n",
       "</table>\n",
       "</div>"
      ],
      "text/plain": [
       "   Rank                  Company        Country  Sales  Profits  Assets  \\\n",
       "0     1                     ICBC          China  151.4     42.0  3473.2   \n",
       "1     2  China Construction Bank          China  134.2     35.0  3016.6   \n",
       "2     3       Berkshire Hathaway  United States  222.9     24.1   620.9   \n",
       "3     4           JPMorgan Chase  United States  102.5     24.2  2513.0   \n",
       "4     5              Wells Fargo  United States   97.6     21.9  1943.4   \n",
       "\n",
       "   Market Value      Sector             Industry  \n",
       "0         229.8  Financials          Major Banks  \n",
       "1         200.5  Financials       Regional Banks  \n",
       "2         409.9  Financials  Investment Services  \n",
       "3         306.6  Financials          Major Banks  \n",
       "4         274.4  Financials          Major Banks  "
      ]
     },
     "execution_count": 2,
     "metadata": {},
     "output_type": "execute_result"
    }
   ],
   "source": [
    "forbes_data = pd.read_csv('datasets/forbes.csv')\n",
    "\n",
    "forbes_data.head()"
   ]
  },
  {
   "cell_type": "code",
   "execution_count": 3,
   "id": "7dc00292",
   "metadata": {},
   "outputs": [
    {
     "data": {
      "text/html": [
       "<div>\n",
       "<style scoped>\n",
       "    .dataframe tbody tr th:only-of-type {\n",
       "        vertical-align: middle;\n",
       "    }\n",
       "\n",
       "    .dataframe tbody tr th {\n",
       "        vertical-align: top;\n",
       "    }\n",
       "\n",
       "    .dataframe thead th {\n",
       "        text-align: right;\n",
       "    }\n",
       "</style>\n",
       "<table border=\"1\" class=\"dataframe\">\n",
       "  <thead>\n",
       "    <tr style=\"text-align: right;\">\n",
       "      <th></th>\n",
       "      <th>Rank</th>\n",
       "      <th>Company</th>\n",
       "      <th>Country</th>\n",
       "      <th>Sales</th>\n",
       "      <th>Profits</th>\n",
       "      <th>Assets</th>\n",
       "      <th>Market Value</th>\n",
       "      <th>Sector</th>\n",
       "      <th>Industry</th>\n",
       "    </tr>\n",
       "  </thead>\n",
       "  <tbody>\n",
       "    <tr>\n",
       "      <th>0</th>\n",
       "      <td>False</td>\n",
       "      <td>False</td>\n",
       "      <td>False</td>\n",
       "      <td>False</td>\n",
       "      <td>False</td>\n",
       "      <td>False</td>\n",
       "      <td>False</td>\n",
       "      <td>False</td>\n",
       "      <td>False</td>\n",
       "    </tr>\n",
       "    <tr>\n",
       "      <th>1</th>\n",
       "      <td>False</td>\n",
       "      <td>False</td>\n",
       "      <td>False</td>\n",
       "      <td>False</td>\n",
       "      <td>False</td>\n",
       "      <td>False</td>\n",
       "      <td>False</td>\n",
       "      <td>False</td>\n",
       "      <td>False</td>\n",
       "    </tr>\n",
       "    <tr>\n",
       "      <th>2</th>\n",
       "      <td>False</td>\n",
       "      <td>False</td>\n",
       "      <td>False</td>\n",
       "      <td>False</td>\n",
       "      <td>False</td>\n",
       "      <td>False</td>\n",
       "      <td>False</td>\n",
       "      <td>False</td>\n",
       "      <td>False</td>\n",
       "    </tr>\n",
       "    <tr>\n",
       "      <th>3</th>\n",
       "      <td>False</td>\n",
       "      <td>False</td>\n",
       "      <td>False</td>\n",
       "      <td>False</td>\n",
       "      <td>False</td>\n",
       "      <td>False</td>\n",
       "      <td>False</td>\n",
       "      <td>False</td>\n",
       "      <td>False</td>\n",
       "    </tr>\n",
       "    <tr>\n",
       "      <th>4</th>\n",
       "      <td>False</td>\n",
       "      <td>False</td>\n",
       "      <td>False</td>\n",
       "      <td>False</td>\n",
       "      <td>False</td>\n",
       "      <td>False</td>\n",
       "      <td>False</td>\n",
       "      <td>False</td>\n",
       "      <td>False</td>\n",
       "    </tr>\n",
       "    <tr>\n",
       "      <th>...</th>\n",
       "      <td>...</td>\n",
       "      <td>...</td>\n",
       "      <td>...</td>\n",
       "      <td>...</td>\n",
       "      <td>...</td>\n",
       "      <td>...</td>\n",
       "      <td>...</td>\n",
       "      <td>...</td>\n",
       "      <td>...</td>\n",
       "    </tr>\n",
       "    <tr>\n",
       "      <th>1995</th>\n",
       "      <td>False</td>\n",
       "      <td>False</td>\n",
       "      <td>False</td>\n",
       "      <td>False</td>\n",
       "      <td>False</td>\n",
       "      <td>False</td>\n",
       "      <td>False</td>\n",
       "      <td>False</td>\n",
       "      <td>False</td>\n",
       "    </tr>\n",
       "    <tr>\n",
       "      <th>1996</th>\n",
       "      <td>False</td>\n",
       "      <td>False</td>\n",
       "      <td>False</td>\n",
       "      <td>False</td>\n",
       "      <td>False</td>\n",
       "      <td>False</td>\n",
       "      <td>False</td>\n",
       "      <td>False</td>\n",
       "      <td>True</td>\n",
       "    </tr>\n",
       "    <tr>\n",
       "      <th>1997</th>\n",
       "      <td>False</td>\n",
       "      <td>False</td>\n",
       "      <td>False</td>\n",
       "      <td>False</td>\n",
       "      <td>False</td>\n",
       "      <td>False</td>\n",
       "      <td>False</td>\n",
       "      <td>False</td>\n",
       "      <td>False</td>\n",
       "    </tr>\n",
       "    <tr>\n",
       "      <th>1998</th>\n",
       "      <td>False</td>\n",
       "      <td>False</td>\n",
       "      <td>False</td>\n",
       "      <td>False</td>\n",
       "      <td>False</td>\n",
       "      <td>False</td>\n",
       "      <td>False</td>\n",
       "      <td>False</td>\n",
       "      <td>False</td>\n",
       "    </tr>\n",
       "    <tr>\n",
       "      <th>1999</th>\n",
       "      <td>False</td>\n",
       "      <td>False</td>\n",
       "      <td>False</td>\n",
       "      <td>False</td>\n",
       "      <td>False</td>\n",
       "      <td>False</td>\n",
       "      <td>False</td>\n",
       "      <td>False</td>\n",
       "      <td>True</td>\n",
       "    </tr>\n",
       "  </tbody>\n",
       "</table>\n",
       "<p>2000 rows × 9 columns</p>\n",
       "</div>"
      ],
      "text/plain": [
       "       Rank  Company  Country  Sales  Profits  Assets  Market Value  Sector  \\\n",
       "0     False    False    False  False    False   False         False   False   \n",
       "1     False    False    False  False    False   False         False   False   \n",
       "2     False    False    False  False    False   False         False   False   \n",
       "3     False    False    False  False    False   False         False   False   \n",
       "4     False    False    False  False    False   False         False   False   \n",
       "...     ...      ...      ...    ...      ...     ...           ...     ...   \n",
       "1995  False    False    False  False    False   False         False   False   \n",
       "1996  False    False    False  False    False   False         False   False   \n",
       "1997  False    False    False  False    False   False         False   False   \n",
       "1998  False    False    False  False    False   False         False   False   \n",
       "1999  False    False    False  False    False   False         False   False   \n",
       "\n",
       "      Industry  \n",
       "0        False  \n",
       "1        False  \n",
       "2        False  \n",
       "3        False  \n",
       "4        False  \n",
       "...        ...  \n",
       "1995     False  \n",
       "1996      True  \n",
       "1997     False  \n",
       "1998     False  \n",
       "1999      True  \n",
       "\n",
       "[2000 rows x 9 columns]"
      ]
     },
     "execution_count": 3,
     "metadata": {},
     "output_type": "execute_result"
    }
   ],
   "source": [
    "forbes_data.isnull()"
   ]
  },
  {
   "cell_type": "code",
   "execution_count": 4,
   "id": "330ca613",
   "metadata": {},
   "outputs": [
    {
     "data": {
      "text/plain": [
       "Rank              0\n",
       "Company           0\n",
       "Country           0\n",
       "Sales             0\n",
       "Profits           0\n",
       "Assets            0\n",
       "Market Value      0\n",
       "Sector          197\n",
       "Industry        491\n",
       "dtype: int64"
      ]
     },
     "execution_count": 4,
     "metadata": {},
     "output_type": "execute_result"
    }
   ],
   "source": [
    "forbes_data.isnull().sum()"
   ]
  },
  {
   "cell_type": "code",
   "execution_count": 5,
   "id": "c62d5ff6",
   "metadata": {},
   "outputs": [
    {
     "data": {
      "text/plain": [
       "Rank            0\n",
       "Company         0\n",
       "Country         0\n",
       "Sales           0\n",
       "Profits         0\n",
       "Assets          0\n",
       "Market Value    0\n",
       "Sector          0\n",
       "Industry        0\n",
       "dtype: int64"
      ]
     },
     "execution_count": 5,
     "metadata": {},
     "output_type": "execute_result"
    }
   ],
   "source": [
    "forbes_data.dropna(inplace=True)\n",
    "\n",
    "forbes_data.isnull().sum()"
   ]
  },
  {
   "cell_type": "code",
   "execution_count": 6,
   "id": "257c66a8",
   "metadata": {},
   "outputs": [
    {
     "data": {
      "text/plain": [
       "(1508, 9)"
      ]
     },
     "execution_count": 6,
     "metadata": {},
     "output_type": "execute_result"
    }
   ],
   "source": [
    "forbes_data.shape"
   ]
  },
  {
   "cell_type": "code",
   "execution_count": 7,
   "id": "39ed3d33",
   "metadata": {},
   "outputs": [
    {
     "data": {
      "text/plain": [
       "26.978494031830238"
      ]
     },
     "execution_count": 7,
     "metadata": {},
     "output_type": "execute_result"
    }
   ],
   "source": [
    "market_value_mean = forbes_data['Market Value'].mean()\n",
    "\n",
    "market_value_mean"
   ]
  },
  {
   "cell_type": "code",
   "execution_count": 8,
   "id": "de95157a",
   "metadata": {},
   "outputs": [
    {
     "data": {
      "text/plain": [
       "13.1"
      ]
     },
     "execution_count": 8,
     "metadata": {},
     "output_type": "execute_result"
    }
   ],
   "source": [
    "market_value_median = forbes_data['Market Value'].median()\n",
    "\n",
    "market_value_median"
   ]
  },
  {
   "cell_type": "code",
   "execution_count": 9,
   "id": "faa3cc0e",
   "metadata": {},
   "outputs": [
    {
     "data": {
      "text/plain": [
       "13.878494031830238"
      ]
     },
     "execution_count": 9,
     "metadata": {},
     "output_type": "execute_result"
    }
   ],
   "source": [
    "diff_mean_median = market_value_mean - market_value_median\n",
    "diff_mean_median"
   ]
  },
  {
   "cell_type": "code",
   "execution_count": 10,
   "id": "788c2600",
   "metadata": {},
   "outputs": [
    {
     "data": {
      "text/plain": [
       "Financials                    474\n",
       "Consumer Discretionary        209\n",
       "Industrials                   192\n",
       "Materials                     145\n",
       "Consumer Staples              106\n",
       "Information Technology        103\n",
       "Utilities                      86\n",
       "Energy                         79\n",
       "Health Care                    71\n",
       "Telecommunication Services     43\n",
       "Name: Sector, dtype: int64"
      ]
     },
     "execution_count": 10,
     "metadata": {},
     "output_type": "execute_result"
    }
   ],
   "source": [
    "# sector is categorical data\n",
    "\n",
    "forbes_data['Sector'].value_counts()"
   ]
  },
  {
   "cell_type": "code",
   "execution_count": 11,
   "id": "8dc79a6f",
   "metadata": {},
   "outputs": [
    {
     "data": {
      "text/plain": [
       "0    Financials\n",
       "dtype: object"
      ]
     },
     "execution_count": 11,
     "metadata": {},
     "output_type": "execute_result"
    }
   ],
   "source": [
    "forbes_data['Sector'].mode()"
   ]
  },
  {
   "cell_type": "markdown",
   "id": "f39dd2bb",
   "metadata": {},
   "source": [
    "## box plot\n",
    "\n",
    "- mean \n",
    "- median\n",
    "- 25th percentile\n",
    "- 75th percentile\n",
    "- maximum values are where in the data\n",
    "- outliers"
   ]
  },
  {
   "cell_type": "code",
   "execution_count": 12,
   "id": "fe6e35fe",
   "metadata": {},
   "outputs": [
    {
     "data": {
      "image/png": "[encoded data removed]",
      "text/plain": [
       "<Figure size 864x576 with 1 Axes>"
      ]
     },
     "metadata": {},
     "output_type": "display_data"
    }
   ],
   "source": [
    "plt.figure(figsize=(12,8))\n",
    "\n",
    "sns.boxplot(data=forbes_data, y = 'Market Value', showmeans=True)\n",
    "\n",
    "plt.axhline(y = market_value_mean, color='r', linestyle='-')\n",
    "plt.axhline(y = market_value_median, color='g', linestyle='-')\n",
    "\n",
    "plt.title('Forbes Data')\n",
    "\n",
    "plt.show()"
   ]
  },
  {
   "cell_type": "code",
   "execution_count": 13,
   "id": "02bc9ed5",
   "metadata": {},
   "outputs": [
    {
     "data": {
      "image/png": "[encoded data removed]",
      "text/plain": [
       "<Figure size 864x576 with 1 Axes>"
      ]
     },
     "metadata": {},
     "output_type": "display_data"
    }
   ],
   "source": [
    "plt.figure(figsize=(12,8))\n",
    "\n",
    "sns.boxplot(data=forbes_data, y = 'Market Value', showmeans=True)\n",
    "\n",
    "plt.ylim(0, 80)\n",
    "\n",
    "plt.axhline(y = market_value_mean, color='r', linestyle='-')\n",
    "plt.axhline(y = market_value_median, color='g', linestyle='-')\n",
    "\n",
    "plt.title('Forbes Data')\n",
    "\n",
    "plt.show()"
   ]
  },
  {
   "cell_type": "markdown",
   "id": "a5cfbeea",
   "metadata": {},
   "source": [
    "## mode\n"
   ]
  },
  {
   "cell_type": "code",
   "execution_count": 14,
   "id": "7a33048c",
   "metadata": {},
   "outputs": [
    {
     "data": {
      "text/html": [
       "<div>\n",
       "<style scoped>\n",
       "    .dataframe tbody tr th:only-of-type {\n",
       "        vertical-align: middle;\n",
       "    }\n",
       "\n",
       "    .dataframe tbody tr th {\n",
       "        vertical-align: top;\n",
       "    }\n",
       "\n",
       "    .dataframe thead th {\n",
       "        text-align: right;\n",
       "    }\n",
       "</style>\n",
       "<table border=\"1\" class=\"dataframe\">\n",
       "  <thead>\n",
       "    <tr style=\"text-align: right;\">\n",
       "      <th></th>\n",
       "      <th>Sector</th>\n",
       "      <th>Rank</th>\n",
       "      <th>Company</th>\n",
       "      <th>Country</th>\n",
       "      <th>Sales</th>\n",
       "      <th>Profits</th>\n",
       "      <th>Assets</th>\n",
       "      <th>Market Value</th>\n",
       "      <th>Industry</th>\n",
       "    </tr>\n",
       "  </thead>\n",
       "  <tbody>\n",
       "    <tr>\n",
       "      <th>0</th>\n",
       "      <td>Consumer Discretionary</td>\n",
       "      <td>209</td>\n",
       "      <td>209</td>\n",
       "      <td>209</td>\n",
       "      <td>209</td>\n",
       "      <td>209</td>\n",
       "      <td>209</td>\n",
       "      <td>209</td>\n",
       "      <td>209</td>\n",
       "    </tr>\n",
       "    <tr>\n",
       "      <th>1</th>\n",
       "      <td>Consumer Staples</td>\n",
       "      <td>106</td>\n",
       "      <td>106</td>\n",
       "      <td>106</td>\n",
       "      <td>106</td>\n",
       "      <td>106</td>\n",
       "      <td>106</td>\n",
       "      <td>106</td>\n",
       "      <td>106</td>\n",
       "    </tr>\n",
       "    <tr>\n",
       "      <th>2</th>\n",
       "      <td>Energy</td>\n",
       "      <td>79</td>\n",
       "      <td>79</td>\n",
       "      <td>79</td>\n",
       "      <td>79</td>\n",
       "      <td>79</td>\n",
       "      <td>79</td>\n",
       "      <td>79</td>\n",
       "      <td>79</td>\n",
       "    </tr>\n",
       "    <tr>\n",
       "      <th>3</th>\n",
       "      <td>Financials</td>\n",
       "      <td>474</td>\n",
       "      <td>474</td>\n",
       "      <td>474</td>\n",
       "      <td>474</td>\n",
       "      <td>474</td>\n",
       "      <td>474</td>\n",
       "      <td>474</td>\n",
       "      <td>474</td>\n",
       "    </tr>\n",
       "    <tr>\n",
       "      <th>4</th>\n",
       "      <td>Health Care</td>\n",
       "      <td>71</td>\n",
       "      <td>71</td>\n",
       "      <td>71</td>\n",
       "      <td>71</td>\n",
       "      <td>71</td>\n",
       "      <td>71</td>\n",
       "      <td>71</td>\n",
       "      <td>71</td>\n",
       "    </tr>\n",
       "  </tbody>\n",
       "</table>\n",
       "</div>"
      ],
      "text/plain": [
       "                   Sector  Rank  Company  Country  Sales  Profits  Assets  \\\n",
       "0  Consumer Discretionary   209      209      209    209      209     209   \n",
       "1        Consumer Staples   106      106      106    106      106     106   \n",
       "2                  Energy    79       79       79     79       79      79   \n",
       "3              Financials   474      474      474    474      474     474   \n",
       "4             Health Care    71       71       71     71       71      71   \n",
       "\n",
       "   Market Value  Industry  \n",
       "0           209       209  \n",
       "1           106       106  \n",
       "2            79        79  \n",
       "3           474       474  \n",
       "4            71        71  "
      ]
     },
     "execution_count": 14,
     "metadata": {},
     "output_type": "execute_result"
    }
   ],
   "source": [
    "groupded_data = forbes_data.groupby('Sector', as_index=False).count()\n",
    "\n",
    "groupded_data.head()"
   ]
  },
  {
   "cell_type": "code",
   "execution_count": 15,
   "id": "a4f85c16",
   "metadata": {},
   "outputs": [
    {
     "data": {
      "text/html": [
       "<div>\n",
       "<style scoped>\n",
       "    .dataframe tbody tr th:only-of-type {\n",
       "        vertical-align: middle;\n",
       "    }\n",
       "\n",
       "    .dataframe tbody tr th {\n",
       "        vertical-align: top;\n",
       "    }\n",
       "\n",
       "    .dataframe thead th {\n",
       "        text-align: right;\n",
       "    }\n",
       "</style>\n",
       "<table border=\"1\" class=\"dataframe\">\n",
       "  <thead>\n",
       "    <tr style=\"text-align: right;\">\n",
       "      <th></th>\n",
       "      <th>Sector</th>\n",
       "      <th>Rank</th>\n",
       "    </tr>\n",
       "  </thead>\n",
       "  <tbody>\n",
       "    <tr>\n",
       "      <th>3</th>\n",
       "      <td>Financials</td>\n",
       "      <td>474</td>\n",
       "    </tr>\n",
       "    <tr>\n",
       "      <th>0</th>\n",
       "      <td>Consumer Discretionary</td>\n",
       "      <td>209</td>\n",
       "    </tr>\n",
       "    <tr>\n",
       "      <th>5</th>\n",
       "      <td>Industrials</td>\n",
       "      <td>192</td>\n",
       "    </tr>\n",
       "    <tr>\n",
       "      <th>7</th>\n",
       "      <td>Materials</td>\n",
       "      <td>145</td>\n",
       "    </tr>\n",
       "    <tr>\n",
       "      <th>1</th>\n",
       "      <td>Consumer Staples</td>\n",
       "      <td>106</td>\n",
       "    </tr>\n",
       "    <tr>\n",
       "      <th>6</th>\n",
       "      <td>Information Technology</td>\n",
       "      <td>103</td>\n",
       "    </tr>\n",
       "    <tr>\n",
       "      <th>9</th>\n",
       "      <td>Utilities</td>\n",
       "      <td>86</td>\n",
       "    </tr>\n",
       "    <tr>\n",
       "      <th>2</th>\n",
       "      <td>Energy</td>\n",
       "      <td>79</td>\n",
       "    </tr>\n",
       "    <tr>\n",
       "      <th>4</th>\n",
       "      <td>Health Care</td>\n",
       "      <td>71</td>\n",
       "    </tr>\n",
       "    <tr>\n",
       "      <th>8</th>\n",
       "      <td>Telecommunication Services</td>\n",
       "      <td>43</td>\n",
       "    </tr>\n",
       "  </tbody>\n",
       "</table>\n",
       "</div>"
      ],
      "text/plain": [
       "                       Sector  Rank\n",
       "3                  Financials   474\n",
       "0      Consumer Discretionary   209\n",
       "5                 Industrials   192\n",
       "7                   Materials   145\n",
       "1            Consumer Staples   106\n",
       "6      Information Technology   103\n",
       "9                   Utilities    86\n",
       "2                      Energy    79\n",
       "4                 Health Care    71\n",
       "8  Telecommunication Services    43"
      ]
     },
     "execution_count": 15,
     "metadata": {},
     "output_type": "execute_result"
    }
   ],
   "source": [
    "groupded_data = groupded_data[['Sector', 'Rank']]\n",
    "\n",
    "groupded_data = groupded_data.sort_values(by='Rank', ascending=False)\n",
    "\n",
    "groupded_data"
   ]
  },
  {
   "cell_type": "markdown",
   "id": "d8cf22d2",
   "metadata": {},
   "source": [
    "## pie chart\n",
    "\n",
    "- mode\n",
    "- category wise display values\n",
    "- percentage of values aquired by category"
   ]
  },
  {
   "cell_type": "code",
   "execution_count": 16,
   "id": "a8967493",
   "metadata": {},
   "outputs": [
    {
     "data": {
      "image/png": "[encoded data removed]",
      "text/plain": [
       "<Figure size 864x576 with 1 Axes>"
      ]
     },
     "metadata": {},
     "output_type": "display_data"
    }
   ],
   "source": [
    "plt.figure(figsize=(12,8))\n",
    "\n",
    "plt.pie(groupded_data['Rank'], labels=groupded_data['Sector'], autopct='%.1f')\n",
    "\n",
    "plt.suptitle('Proportion of companies in the Forbes By Sector')\n",
    "\n",
    "plt.show()"
   ]
  },
  {
   "cell_type": "markdown",
   "id": "d89010b7",
   "metadata": {},
   "source": [
    "# Dispersion"
   ]
  },
  {
   "cell_type": "code",
   "execution_count": 17,
   "id": "16d29b5e",
   "metadata": {},
   "outputs": [
    {
     "data": {
      "text/html": [
       "<div>\n",
       "<style scoped>\n",
       "    .dataframe tbody tr th:only-of-type {\n",
       "        vertical-align: middle;\n",
       "    }\n",
       "\n",
       "    .dataframe tbody tr th {\n",
       "        vertical-align: top;\n",
       "    }\n",
       "\n",
       "    .dataframe thead th {\n",
       "        text-align: right;\n",
       "    }\n",
       "</style>\n",
       "<table border=\"1\" class=\"dataframe\">\n",
       "  <thead>\n",
       "    <tr style=\"text-align: right;\">\n",
       "      <th></th>\n",
       "      <th>Rank</th>\n",
       "      <th>Company</th>\n",
       "      <th>Country</th>\n",
       "      <th>Sales</th>\n",
       "      <th>Profits</th>\n",
       "      <th>Assets</th>\n",
       "      <th>Market Value</th>\n",
       "      <th>Sector</th>\n",
       "      <th>Industry</th>\n",
       "    </tr>\n",
       "  </thead>\n",
       "  <tbody>\n",
       "    <tr>\n",
       "      <th>0</th>\n",
       "      <td>1</td>\n",
       "      <td>ICBC</td>\n",
       "      <td>China</td>\n",
       "      <td>151.4</td>\n",
       "      <td>42.0</td>\n",
       "      <td>3473.2</td>\n",
       "      <td>229.8</td>\n",
       "      <td>Financials</td>\n",
       "      <td>Major Banks</td>\n",
       "    </tr>\n",
       "    <tr>\n",
       "      <th>1</th>\n",
       "      <td>2</td>\n",
       "      <td>China Construction Bank</td>\n",
       "      <td>China</td>\n",
       "      <td>134.2</td>\n",
       "      <td>35.0</td>\n",
       "      <td>3016.6</td>\n",
       "      <td>200.5</td>\n",
       "      <td>Financials</td>\n",
       "      <td>Regional Banks</td>\n",
       "    </tr>\n",
       "    <tr>\n",
       "      <th>2</th>\n",
       "      <td>3</td>\n",
       "      <td>Berkshire Hathaway</td>\n",
       "      <td>United States</td>\n",
       "      <td>222.9</td>\n",
       "      <td>24.1</td>\n",
       "      <td>620.9</td>\n",
       "      <td>409.9</td>\n",
       "      <td>Financials</td>\n",
       "      <td>Investment Services</td>\n",
       "    </tr>\n",
       "    <tr>\n",
       "      <th>3</th>\n",
       "      <td>4</td>\n",
       "      <td>JPMorgan Chase</td>\n",
       "      <td>United States</td>\n",
       "      <td>102.5</td>\n",
       "      <td>24.2</td>\n",
       "      <td>2513.0</td>\n",
       "      <td>306.6</td>\n",
       "      <td>Financials</td>\n",
       "      <td>Major Banks</td>\n",
       "    </tr>\n",
       "    <tr>\n",
       "      <th>4</th>\n",
       "      <td>5</td>\n",
       "      <td>Wells Fargo</td>\n",
       "      <td>United States</td>\n",
       "      <td>97.6</td>\n",
       "      <td>21.9</td>\n",
       "      <td>1943.4</td>\n",
       "      <td>274.4</td>\n",
       "      <td>Financials</td>\n",
       "      <td>Major Banks</td>\n",
       "    </tr>\n",
       "  </tbody>\n",
       "</table>\n",
       "</div>"
      ],
      "text/plain": [
       "   Rank                  Company        Country  Sales  Profits  Assets  \\\n",
       "0     1                     ICBC          China  151.4     42.0  3473.2   \n",
       "1     2  China Construction Bank          China  134.2     35.0  3016.6   \n",
       "2     3       Berkshire Hathaway  United States  222.9     24.1   620.9   \n",
       "3     4           JPMorgan Chase  United States  102.5     24.2  2513.0   \n",
       "4     5              Wells Fargo  United States   97.6     21.9  1943.4   \n",
       "\n",
       "   Market Value      Sector             Industry  \n",
       "0         229.8  Financials          Major Banks  \n",
       "1         200.5  Financials       Regional Banks  \n",
       "2         409.9  Financials  Investment Services  \n",
       "3         306.6  Financials          Major Banks  \n",
       "4         274.4  Financials          Major Banks  "
      ]
     },
     "execution_count": 17,
     "metadata": {},
     "output_type": "execute_result"
    }
   ],
   "source": [
    "forbes_data.head()"
   ]
  },
  {
   "cell_type": "markdown",
   "id": "2e830864",
   "metadata": {},
   "source": [
    "### Range"
   ]
  },
  {
   "cell_type": "code",
   "execution_count": 18,
   "id": "9fdd784a",
   "metadata": {},
   "outputs": [
    {
     "data": {
      "text/plain": [
       "45.2"
      ]
     },
     "execution_count": 18,
     "metadata": {},
     "output_type": "execute_result"
    }
   ],
   "source": [
    "profit_max = forbes_data['Profits'].max()\n",
    "\n",
    "profit_max"
   ]
  },
  {
   "cell_type": "code",
   "execution_count": 19,
   "id": "a0a732e6",
   "metadata": {},
   "outputs": [
    {
     "data": {
      "text/plain": [
       "-13.0"
      ]
     },
     "execution_count": 19,
     "metadata": {},
     "output_type": "execute_result"
    }
   ],
   "source": [
    "profit_min = forbes_data['Profits'].min()\n",
    "\n",
    "profit_min"
   ]
  },
  {
   "cell_type": "code",
   "execution_count": 20,
   "id": "c2db98a7",
   "metadata": {},
   "outputs": [
    {
     "data": {
      "text/plain": [
       "58.2"
      ]
     },
     "execution_count": 20,
     "metadata": {},
     "output_type": "execute_result"
    }
   ],
   "source": [
    "profit_range = profit_max - profit_min\n",
    "\n",
    "profit_range"
   ]
  },
  {
   "cell_type": "code",
   "execution_count": 21,
   "id": "be36cd51",
   "metadata": {},
   "outputs": [
    {
     "data": {
      "image/png": "[encoded data removed]",
      "text/plain": [
       "<Figure size 864x576 with 1 Axes>"
      ]
     },
     "metadata": {},
     "output_type": "display_data"
    }
   ],
   "source": [
    "plt.figure(figsize=(12,8))\n",
    "\n",
    "sns.boxplot(data=forbes_data, y= 'Profits', showmeans=True)\n",
    "\n",
    "plt.title(\"Forbes Data\")\n",
    "\n",
    "plt.show()"
   ]
  },
  {
   "cell_type": "code",
   "execution_count": 22,
   "id": "ea94224e",
   "metadata": {},
   "outputs": [
    {
     "data": {
      "image/png": "[encoded data removed]",
      "text/plain": [
       "<Figure size 864x576 with 1 Axes>"
      ]
     },
     "metadata": {},
     "output_type": "display_data"
    }
   ],
   "source": [
    "plt.figure(figsize=(12,8))\n",
    "\n",
    "sns.boxplot(data=forbes_data, y= 'Profits', showmeans=True)\n",
    "\n",
    "plt.ylim(-3,8)\n",
    "\n",
    "plt.title(\"Forbes Data\")\n",
    "\n",
    "plt.show()"
   ]
  },
  {
   "cell_type": "markdown",
   "id": "b0e24f49",
   "metadata": {},
   "source": [
    "### Inter Quartile Range"
   ]
  },
  {
   "cell_type": "code",
   "execution_count": 23,
   "id": "600cf563",
   "metadata": {},
   "outputs": [
    {
     "data": {
      "text/plain": [
       "0.34975"
      ]
     },
     "execution_count": 23,
     "metadata": {},
     "output_type": "execute_result"
    }
   ],
   "source": [
    "Q1 = np.quantile(forbes_data['Profits'], 0.25)\n",
    "Q1"
   ]
  },
  {
   "cell_type": "code",
   "execution_count": 24,
   "id": "54f2554b",
   "metadata": {},
   "outputs": [
    {
     "data": {
      "text/plain": [
       "1.4249999999999998"
      ]
     },
     "execution_count": 24,
     "metadata": {},
     "output_type": "execute_result"
    }
   ],
   "source": [
    "Q3 = np.quantile(forbes_data['Profits'], 0.75)\n",
    "Q3"
   ]
  },
  {
   "cell_type": "code",
   "execution_count": 25,
   "id": "a1dc0e10",
   "metadata": {},
   "outputs": [
    {
     "data": {
      "text/plain": [
       "1.0752499999999998"
      ]
     },
     "execution_count": 25,
     "metadata": {},
     "output_type": "execute_result"
    }
   ],
   "source": [
    "IQR = Q3 - Q1\n",
    "\n",
    "IQR"
   ]
  },
  {
   "cell_type": "markdown",
   "id": "ee068922",
   "metadata": {},
   "source": [
    "### Standard Deviation"
   ]
  },
  {
   "cell_type": "code",
   "execution_count": 26,
   "id": "4fd5a3ae",
   "metadata": {},
   "outputs": [
    {
     "data": {
      "text/plain": [
       "3.244201278603241"
      ]
     },
     "execution_count": 26,
     "metadata": {},
     "output_type": "execute_result"
    }
   ],
   "source": [
    "profit_std = forbes_data['Profits'].std()\n",
    "\n",
    "profit_std"
   ]
  },
  {
   "cell_type": "code",
   "execution_count": 28,
   "id": "b48a53a1",
   "metadata": {},
   "outputs": [
    {
     "data": {
      "text/plain": [
       "10.524841936090903"
      ]
     },
     "execution_count": 28,
     "metadata": {},
     "output_type": "execute_result"
    }
   ],
   "source": [
    "profit_var = profit_std ** 2\n",
    "\n",
    "profit_var"
   ]
  },
  {
   "cell_type": "code",
   "execution_count": 29,
   "id": "2953126d",
   "metadata": {},
   "outputs": [
    {
     "data": {
      "text/plain": [
       "10.524841936090903"
      ]
     },
     "execution_count": 29,
     "metadata": {},
     "output_type": "execute_result"
    }
   ],
   "source": [
    "profit_var = forbes_data['Profits'].var()\n",
    "\n",
    "profit_var"
   ]
  },
  {
   "cell_type": "code",
   "execution_count": 27,
   "id": "46202ff4",
   "metadata": {},
   "outputs": [
    {
     "data": {
      "text/plain": [
       "1.4074303713527854"
      ]
     },
     "execution_count": 27,
     "metadata": {},
     "output_type": "execute_result"
    }
   ],
   "source": [
    "profit_mean = forbes_data['Profits'].mean()\n",
    "\n",
    "profit_mean"
   ]
  },
  {
   "cell_type": "markdown",
   "id": "f1632946",
   "metadata": {},
   "source": [
    "### Summary statistics"
   ]
  },
  {
   "cell_type": "code",
   "execution_count": 30,
   "id": "5186166a",
   "metadata": {},
   "outputs": [
    {
     "data": {
      "text/html": [
       "<div>\n",
       "<style scoped>\n",
       "    .dataframe tbody tr th:only-of-type {\n",
       "        vertical-align: middle;\n",
       "    }\n",
       "\n",
       "    .dataframe tbody tr th {\n",
       "        vertical-align: top;\n",
       "    }\n",
       "\n",
       "    .dataframe thead th {\n",
       "        text-align: right;\n",
       "    }\n",
       "</style>\n",
       "<table border=\"1\" class=\"dataframe\">\n",
       "  <thead>\n",
       "    <tr style=\"text-align: right;\">\n",
       "      <th></th>\n",
       "      <th>Rank</th>\n",
       "      <th>Sales</th>\n",
       "      <th>Profits</th>\n",
       "      <th>Assets</th>\n",
       "      <th>Market Value</th>\n",
       "    </tr>\n",
       "  </thead>\n",
       "  <tbody>\n",
       "    <tr>\n",
       "      <th>count</th>\n",
       "      <td>1508.000000</td>\n",
       "      <td>1508.000000</td>\n",
       "      <td>1508.000000</td>\n",
       "      <td>1508.000000</td>\n",
       "      <td>1508.000000</td>\n",
       "    </tr>\n",
       "    <tr>\n",
       "      <th>mean</th>\n",
       "      <td>909.135279</td>\n",
       "      <td>19.623046</td>\n",
       "      <td>1.407430</td>\n",
       "      <td>97.647016</td>\n",
       "      <td>26.978494</td>\n",
       "    </tr>\n",
       "    <tr>\n",
       "      <th>std</th>\n",
       "      <td>554.044456</td>\n",
       "      <td>30.875809</td>\n",
       "      <td>3.244201</td>\n",
       "      <td>287.036157</td>\n",
       "      <td>47.099541</td>\n",
       "    </tr>\n",
       "    <tr>\n",
       "      <th>min</th>\n",
       "      <td>1.000000</td>\n",
       "      <td>0.001000</td>\n",
       "      <td>-13.000000</td>\n",
       "      <td>1.300000</td>\n",
       "      <td>0.240000</td>\n",
       "    </tr>\n",
       "    <tr>\n",
       "      <th>25%</th>\n",
       "      <td>433.750000</td>\n",
       "      <td>4.900000</td>\n",
       "      <td>0.349750</td>\n",
       "      <td>12.800000</td>\n",
       "      <td>7.300000</td>\n",
       "    </tr>\n",
       "    <tr>\n",
       "      <th>50%</th>\n",
       "      <td>883.500000</td>\n",
       "      <td>10.300000</td>\n",
       "      <td>0.692500</td>\n",
       "      <td>25.900000</td>\n",
       "      <td>13.100000</td>\n",
       "    </tr>\n",
       "    <tr>\n",
       "      <th>75%</th>\n",
       "      <td>1354.250000</td>\n",
       "      <td>19.900000</td>\n",
       "      <td>1.425000</td>\n",
       "      <td>60.325000</td>\n",
       "      <td>26.900000</td>\n",
       "    </tr>\n",
       "    <tr>\n",
       "      <th>max</th>\n",
       "      <td>1999.000000</td>\n",
       "      <td>485.300000</td>\n",
       "      <td>45.200000</td>\n",
       "      <td>3473.200000</td>\n",
       "      <td>752.000000</td>\n",
       "    </tr>\n",
       "  </tbody>\n",
       "</table>\n",
       "</div>"
      ],
      "text/plain": [
       "              Rank        Sales      Profits       Assets  Market Value\n",
       "count  1508.000000  1508.000000  1508.000000  1508.000000   1508.000000\n",
       "mean    909.135279    19.623046     1.407430    97.647016     26.978494\n",
       "std     554.044456    30.875809     3.244201   287.036157     47.099541\n",
       "min       1.000000     0.001000   -13.000000     1.300000      0.240000\n",
       "25%     433.750000     4.900000     0.349750    12.800000      7.300000\n",
       "50%     883.500000    10.300000     0.692500    25.900000     13.100000\n",
       "75%    1354.250000    19.900000     1.425000    60.325000     26.900000\n",
       "max    1999.000000   485.300000    45.200000  3473.200000    752.000000"
      ]
     },
     "execution_count": 30,
     "metadata": {},
     "output_type": "execute_result"
    }
   ],
   "source": [
    "forbes_data.describe()"
   ]
  },
  {
   "cell_type": "markdown",
   "id": "30df207b",
   "metadata": {},
   "source": [
    "# Normal Distribution"
   ]
  },
  {
   "cell_type": "code",
   "execution_count": 32,
   "id": "edd83848",
   "metadata": {
    "scrolled": false
   },
   "outputs": [],
   "source": [
    "import numpy as np\n",
    "import pandas as pd\n",
    "\n",
    "# from scipy import stats\n",
    "\n",
    "# import statsmodels.api as sm\n",
    "# from scipy.stats import norm\n",
    "\n",
    "import seaborn as sns\n",
    "import matplotlib.pyplot as plt\n",
    "\n",
    "sns.set_theme(style='darkgrid')"
   ]
  },
  {
   "cell_type": "code",
   "execution_count": null,
   "id": "ba1ef089",
   "metadata": {},
   "outputs": [],
   "source": [
    "## generating normal distribution data\n",
    "\n",
    "mean = 0\n",
    "std = 1"
   ]
  },
  {
   "cell_type": "code",
   "execution_count": 33,
   "id": "994a2a92",
   "metadata": {},
   "outputs": [
    {
     "data": {
      "text/plain": [
       "array([ 1.27682593,  0.61538748,  1.18253923,  1.36009775,  1.891862  ,\n",
       "       -1.03015235,  0.8425063 ,  0.98422859, -1.24943261, -0.03697703])"
      ]
     },
     "execution_count": 33,
     "metadata": {},
     "output_type": "execute_result"
    }
   ],
   "source": [
    "normally_distributed_data = np.random.normal(loc=0, scale=1, size = 100000)\n",
    "\n",
    "normally_distributed_data[:10]"
   ]
  },
  {
   "cell_type": "code",
   "execution_count": null,
   "id": "cabfb048",
   "metadata": {},
   "outputs": [],
   "source": [
    "# mean == median # normal distribution"
   ]
  },
  {
   "cell_type": "code",
   "execution_count": 34,
   "id": "82c6626f",
   "metadata": {},
   "outputs": [
    {
     "data": {
      "text/plain": [
       "0.005324317035812095"
      ]
     },
     "execution_count": 34,
     "metadata": {},
     "output_type": "execute_result"
    }
   ],
   "source": [
    "sample_mean = np.mean(normally_distributed_data)\n",
    "sample_mean"
   ]
  },
  {
   "cell_type": "code",
   "execution_count": 35,
   "id": "e88580a6",
   "metadata": {},
   "outputs": [
    {
     "data": {
      "text/plain": [
       "0.005394887009779952"
      ]
     },
     "execution_count": 35,
     "metadata": {},
     "output_type": "execute_result"
    }
   ],
   "source": [
    "sample_median = np.median(normally_distributed_data)\n",
    "sample_median"
   ]
  },
  {
   "cell_type": "code",
   "execution_count": 36,
   "id": "0338d91f",
   "metadata": {},
   "outputs": [
    {
     "data": {
      "text/plain": [
       "1.0015353735077008"
      ]
     },
     "execution_count": 36,
     "metadata": {},
     "output_type": "execute_result"
    }
   ],
   "source": [
    "sample_std = np.std(normally_distributed_data)\n",
    "sample_std"
   ]
  },
  {
   "cell_type": "markdown",
   "id": "b07992aa",
   "metadata": {},
   "source": [
    "### Plotting ND"
   ]
  },
  {
   "cell_type": "code",
   "execution_count": 40,
   "id": "5b8e4a58",
   "metadata": {},
   "outputs": [
    {
     "data": {
      "image/png": "[encoded data removed]",
      "text/plain": [
       "<Figure size 864x576 with 1 Axes>"
      ]
     },
     "metadata": {},
     "output_type": "display_data"
    }
   ],
   "source": [
    "plt.figure(figsize=(12,8))\n",
    "\n",
    "sns.histplot(x= normally_distributed_data)\n",
    "\n",
    "plt.title(\"Normal Distribution\", fontsize='15')\n",
    "\n",
    "plt.axvline(x = sample_mean, color='r', linestyle='-')\n",
    "plt.axvline(x = sample_median, color='g', linestyle='-.')\n",
    "\n",
    "plt.xlabel('Values', fontsize='15')\n",
    "plt.ylabel('Probability', fontsize='15')\n",
    "\n",
    "plt.show()"
   ]
  },
  {
   "cell_type": "code",
   "execution_count": null,
   "id": "af8c1534",
   "metadata": {},
   "outputs": [],
   "source": []
  }
 ],
 "metadata": {
  "kernelspec": {
   "display_name": "Python 3",
   "language": "python",
   "name": "python3"
  },
  "language_info": {
   "codemirror_mode": {
    "name": "ipython",
    "version": 3
   },
   "file_extension": ".py",
   "mimetype": "text/x-python",
   "name": "python",
   "nbconvert_exporter": "python",
   "pygments_lexer": "ipython3",
   "version": "3.8.10"
  }
 },
 "nbformat": 4,
 "nbformat_minor": 5
}
